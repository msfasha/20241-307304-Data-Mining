{
 "cells": [
  {
   "cell_type": "markdown",
   "metadata": {},
   "source": [
    "#### 1. **Introduction to K-Means Clustering**\n",
    "\n",
    "**K-Means Clustering** is an unsupervised learning algorithm used to group similar data points into a predefined number of clusters, $ K $. The objective is to partition the dataset into $ K $ clusters, where each data point belongs to the cluster with the nearest mean, minimizing the variance within each cluster.\n",
    "\n",
    "**Applications of K-Means**:\n",
    "- Market segmentation\n",
    "- Image compression\n",
    "- Document clustering\n",
    "- Anomaly detection\n",
    "\n",
    "---\n",
    "\n",
    "#### 2. **How K-Means Works**\n",
    "\n",
    "The K-Means algorithm works iteratively to partition a dataset into $ K $ clusters. Here's how the algorithm proceeds:\n",
    "\n",
    "1. **Step 1**: Initialize $ K $ centroids randomly.\n",
    "2. **Step 2**: Assign each data point to the nearest centroid, forming $ K $ clusters.\n",
    "3. **Step 3**: Recalculate the centroids as the mean of all data points assigned to each cluster.\n",
    "4. **Step 4**: Repeat steps 2 and 3 until the centroids no longer change, or the algorithm converges.\n",
    "\n",
    "---\n",
    "\n",
    "#### 3. **Mathematical Explanation**\n",
    "\n",
    "Given a dataset $ X $ with $ n $ observations, the objective is to minimize the following **within-cluster sum of squares (WCSS)**:\n",
    "\n",
    "$$\n",
    "\\sum_{i=1}^{K} \\sum_{x \\in C_i} \\| x - \\mu_i \\|^2\n",
    "$$\n",
    "\n",
    "Where:\n",
    "- $ C_i $ is the set of points assigned to cluster $ i $,\n",
    "- $ \\mu_i $ is the centroid of cluster $ i $,\n",
    "- $ \\| x - \\mu_i \\|^2 $ is the squared Euclidean distance between a point $ x $ and the centroid $ \\mu_i $.\n",
    "\n",
    "---\n",
    "\n",
    "#### 4. **Step-by-Step Example**\n",
    "\n",
    "Consider a simple 2D dataset with 10 data points that we want to cluster into $ K = 2 $ clusters.\n",
    "\n",
    "| X1  | X2  |\n",
    "|-----|-----|\n",
    "| 1.0 | 2.0 |\n",
    "| 1.5 | 1.8 |\n",
    "| 5.0 | 8.0 |\n",
    "| 8.0 | 8.0 |\n",
    "| 1.0 | 0.6 |\n",
    "| 9.0 | 11.0|\n",
    "| 8.0 | 2.0 |\n",
    "| 10.0| 2.0 |\n",
    "| 9.0 | 3.0 |\n",
    "| 10.0| 8.0 |\n",
    "\n",
    "We will apply the K-Means algorithm with $ K = 2 $ to group these points.\n",
    "\n",
    "---\n",
    "\n",
    "#### **Step 1: Initialize Centroids**\n",
    "\n",
    "Start by randomly choosing 2 points as initial centroids. Let’s choose:\n",
    "\n",
    "$$\n",
    "\\mu_1 = (1.0, 2.0), \\quad \\mu_2 = (10.0, 8.0)\n",
    "$$\n",
    "\n",
    "#### **Step 2: Assign Data Points to Nearest Centroid**\n",
    "\n",
    "For each data point, calculate the Euclidean distance to both centroids and assign the point to the nearest one.\n",
    "\n",
    "- For point (1.5, 1.8): \n",
    "  $$\n",
    "  d((1.5, 1.8), \\mu_1) = 0.54, \\quad d((1.5, 1.8), \\mu_2) = 10.73\n",
    "  $$\n",
    "  So, assign (1.5, 1.8) to $ \\mu_1 $.\n",
    "\n",
    "Repeat this for all data points, and you will get two clusters.\n",
    "\n",
    "#### **Step 3: Recalculate Centroids**\n",
    "\n",
    "After assigning all points to clusters, recalculate the centroids by taking the mean of all points in each cluster. \n",
    "\n",
    "For example, if points $ (1.0, 2.0), (1.5, 1.8), (1.0, 0.6) $ are assigned to $ \\mu_1 $, then the new centroid for $ \\mu_1 $ is:\n",
    "\n",
    "$$\n",
    "\\mu_1 = \\left(\\frac{1.0 + 1.5 + 1.0}{3}, \\frac{2.0 + 1.8 + 0.6}{3}\\right) = (1.17, 1.47)\n",
    "$$\n",
    "\n",
    "#### **Step 4: Repeat Until Convergence**\n",
    "\n",
    "Repeat steps 2 and 3 until the centroids stop changing, or the changes are below a specified threshold.\n",
    "\n",
    "---"
   ]
  },
  {
   "cell_type": "markdown",
   "metadata": {},
   "source": [
    "#### 5. **Python Code Example**\n",
    "\n",
    "Here's how to implement K-Means clustering in Python using `scikit-learn`:"
   ]
  },
  {
   "cell_type": "code",
   "execution_count": 1,
   "metadata": {},
   "outputs": [
    {
     "name": "stderr",
     "output_type": "stream",
     "text": [
      "c:\\Users\\me\\anaconda3\\envs\\myenv\\Lib\\site-packages\\sklearn\\cluster\\_kmeans.py:1429: UserWarning: KMeans is known to have a memory leak on Windows with MKL, when there are less chunks than available threads. You can avoid it by setting the environment variable OMP_NUM_THREADS=1.\n",
      "  warnings.warn(\n"
     ]
    },
    {
     "data": {
      "image/png": "[encoded data removed]",
      "text/plain": [
       "<Figure size 640x480 with 1 Axes>"
      ]
     },
     "metadata": {},
     "output_type": "display_data"
    }
   ],
   "source": [
    "# Import necessary libraries\n",
    "import numpy as np\n",
    "import pandas as pd\n",
    "from sklearn.cluster import KMeans\n",
    "import matplotlib.pyplot as plt\n",
    "\n",
    "# Step 1: Create the dataset\n",
    "data = {'X1': [1.0, 1.5, 5.0, 8.0, 1.0, 9.0, 8.0, 10.0, 9.0, 10.0],\n",
    "        'X2': [2.0, 1.8, 8.0, 8.0, 0.6, 11.0, 2.0, 2.0, 3.0, 8.0]}\n",
    "\n",
    "df = pd.DataFrame(data)\n",
    "\n",
    "# Step 2: Apply K-Means with K=2\n",
    "kmeans = KMeans(n_clusters=2, random_state=42)\n",
    "kmeans.fit(df)\n",
    "\n",
    "# Step 3: Get the cluster labels\n",
    "df['Cluster'] = kmeans.labels_\n",
    "\n",
    "# Step 4: Plot the clusters and centroids\n",
    "plt.scatter(df['X1'], df['X2'], c=df['Cluster'], cmap='rainbow')\n",
    "plt.scatter(kmeans.cluster_centers_[:, 0], kmeans.cluster_centers_[:, 1], color='black', marker='x')\n",
    "plt.title('K-Means Clustering (K=2)')\n",
    "plt.xlabel('X1')\n",
    "plt.ylabel('X2')\n",
    "plt.show()"
   ]
  },
  {
   "cell_type": "markdown",
   "metadata": {},
   "source": [
    "**Explanation**:\n",
    "- **Step 1**: We create a simple 2D dataset.\n",
    "- **Step 2**: We apply K-Means clustering with $ K = 2 $.\n",
    "- **Step 3**: We assign each data point to a cluster and store the result in the DataFrame.\n",
    "- **Step 4**: We plot the clusters with different colors and mark the centroids with black 'x's.\n",
    "\n",
    "---"
   ]
  },
  {
   "cell_type": "markdown",
   "metadata": {},
   "source": [
    "#### 6. **Choosing the Right K (Elbow Method)**\n",
    "\n",
    "One challenge with K-Means is selecting the appropriate number of clusters $ K $. The **Elbow Method** is a technique used to determine the optimal $ K $ by plotting the **within-cluster sum of squares (WCSS)** against different values of $ K $.\n",
    "\n",
    "- **Steps**:\n",
    "  1. Run K-Means for a range of $ K $ values.\n",
    "  2. Plot the WCSS for each $ K $.\n",
    "  3. Look for the \"elbow\" point in the plot, where the decrease in WCSS slows down. This is the ideal $ K $.\n",
    "\n",
    "Here’s how to apply the elbow method in Python:"
   ]
  },
  {
   "cell_type": "code",
   "execution_count": 2,
   "metadata": {},
   "outputs": [
    {
     "name": "stderr",
     "output_type": "stream",
     "text": [
      "c:\\Users\\me\\anaconda3\\envs\\myenv\\Lib\\site-packages\\sklearn\\cluster\\_kmeans.py:1429: UserWarning: KMeans is known to have a memory leak on Windows with MKL, when there are less chunks than available threads. You can avoid it by setting the environment variable OMP_NUM_THREADS=1.\n",
      "  warnings.warn(\n",
      "c:\\Users\\me\\anaconda3\\envs\\myenv\\Lib\\site-packages\\sklearn\\cluster\\_kmeans.py:1429: UserWarning: KMeans is known to have a memory leak on Windows with MKL, when there are less chunks than available threads. You can avoid it by setting the environment variable OMP_NUM_THREADS=1.\n",
      "  warnings.warn(\n",
      "c:\\Users\\me\\anaconda3\\envs\\myenv\\Lib\\site-packages\\sklearn\\cluster\\_kmeans.py:1429: UserWarning: KMeans is known to have a memory leak on Windows with MKL, when there are less chunks than available threads. You can avoid it by setting the environment variable OMP_NUM_THREADS=1.\n",
      "  warnings.warn(\n",
      "c:\\Users\\me\\anaconda3\\envs\\myenv\\Lib\\site-packages\\sklearn\\cluster\\_kmeans.py:1429: UserWarning: KMeans is known to have a memory leak on Windows with MKL, when there are less chunks than available threads. You can avoid it by setting the environment variable OMP_NUM_THREADS=1.\n",
      "  warnings.warn(\n",
      "c:\\Users\\me\\anaconda3\\envs\\myenv\\Lib\\site-packages\\sklearn\\cluster\\_kmeans.py:1429: UserWarning: KMeans is known to have a memory leak on Windows with MKL, when there are less chunks than available threads. You can avoid it by setting the environment variable OMP_NUM_THREADS=1.\n",
      "  warnings.warn(\n",
      "c:\\Users\\me\\anaconda3\\envs\\myenv\\Lib\\site-packages\\sklearn\\cluster\\_kmeans.py:1429: UserWarning: KMeans is known to have a memory leak on Windows with MKL, when there are less chunks than available threads. You can avoid it by setting the environment variable OMP_NUM_THREADS=1.\n",
      "  warnings.warn(\n",
      "c:\\Users\\me\\anaconda3\\envs\\myenv\\Lib\\site-packages\\sklearn\\cluster\\_kmeans.py:1429: UserWarning: KMeans is known to have a memory leak on Windows with MKL, when there are less chunks than available threads. You can avoid it by setting the environment variable OMP_NUM_THREADS=1.\n",
      "  warnings.warn(\n",
      "c:\\Users\\me\\anaconda3\\envs\\myenv\\Lib\\site-packages\\sklearn\\cluster\\_kmeans.py:1429: UserWarning: KMeans is known to have a memory leak on Windows with MKL, when there are less chunks than available threads. You can avoid it by setting the environment variable OMP_NUM_THREADS=1.\n",
      "  warnings.warn(\n",
      "c:\\Users\\me\\anaconda3\\envs\\myenv\\Lib\\site-packages\\sklearn\\cluster\\_kmeans.py:1429: UserWarning: KMeans is known to have a memory leak on Windows with MKL, when there are less chunks than available threads. You can avoid it by setting the environment variable OMP_NUM_THREADS=1.\n",
      "  warnings.warn(\n",
      "c:\\Users\\me\\anaconda3\\envs\\myenv\\Lib\\site-packages\\sklearn\\cluster\\_kmeans.py:1429: UserWarning: KMeans is known to have a memory leak on Windows with MKL, when there are less chunks than available threads. You can avoid it by setting the environment variable OMP_NUM_THREADS=1.\n",
      "  warnings.warn(\n"
     ]
    },
    {
     "data": {
      "image/png": "[encoded data removed]",
      "text/plain": [
       "<Figure size 640x480 with 1 Axes>"
      ]
     },
     "metadata": {},
     "output_type": "display_data"
    }
   ],
   "source": [
    "wcss = []\n",
    "for k in range(1, 11):\n",
    "    kmeans = KMeans(n_clusters=k, random_state=42)\n",
    "    kmeans.fit(df[['X1', 'X2']])\n",
    "    wcss.append(kmeans.inertia_)  # Inertia is the WCSS\n",
    "\n",
    "# Plot the elbow graph\n",
    "plt.plot(range(1, 11), wcss)\n",
    "plt.title('Elbow Method')\n",
    "plt.xlabel('Number of Clusters')\n",
    "plt.ylabel('WCSS')\n",
    "plt.show()"
   ]
  },
  {
   "cell_type": "markdown",
   "metadata": {},
   "source": [
    "---\n",
    "\n",
    "#### 7. **Conclusion**\n",
    "\n",
    "K-Means is a simple and efficient clustering algorithm, widely used for partitioning datasets into clusters. It’s easy to implement, but it has some limitations, such as the need to specify the number of clusters in advance and sensitivity to the initial choice of centroids.\n",
    "\n",
    "**Homework**:  \n",
    "Apply the K-Means algorithm on a dataset with more features and try different values of $ K $. Use the elbow method to identify the best number of clusters. Visualize the results using a scatter plot or other visualization techniques."
   ]
  }
 ],
 "metadata": {
  "kernelspec": {
   "display_name": "myenv",
   "language": "python",
   "name": "python3"
  },
  "language_info": {
   "codemirror_mode": {
    "name": "ipython",
    "version": 3
   },
   "file_extension": ".py",
   "mimetype": "text/x-python",
   "name": "python",
   "nbconvert_exporter": "python",
   "pygments_lexer": "ipython3",
   "version": "3.12.7"
  }
 },
 "nbformat": 4,
 "nbformat_minor": 2
}
