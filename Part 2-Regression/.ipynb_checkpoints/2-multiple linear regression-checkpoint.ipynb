{
 "cells": [
  {
   "attachments": {
    "image.png": {
     "image/png": "[encoded data removed]"
    }
   },
   "cell_type": "markdown",
   "metadata": {},
   "source": [
    "![image.png](attachment:image.png)"
   ]
  },
  {
   "cell_type": "markdown",
   "metadata": {},
   "source": [
    "# Introduction To Multiple Linear Regression"
   ]
  },
  {
   "cell_type": "markdown",
   "metadata": {},
   "source": [
    "## Topics and Outcomes\n",
    "- Introduce Multiple Regression.\n",
    "- Converting categorical values into numerical.\n",
    "- Introduce the concept of Bais and Variance, Overfitting.\n",
    "- Solving overfitting using Regularization Techniques (Ridge Regression and Lasso Regression)"
   ]
  },
  {
   "cell_type": "markdown",
   "metadata": {},
   "source": [
    "### What is multipl Linear Regression?\n",
    "Multiple Linear Regression is an extension of simple linear regression that allows for predicting a dependent variable based on multiple independent variables. The general form of the model is expressed as:\n",
    "\n",
    "$$\n",
    "y = \\beta_0 + \\beta_1 X_1 + \\beta_2 X_2 + \\cdots + \\beta_n X_n\n",
    "$$\n",
    "\n",
    "Where:\n",
    "- $ y \\in Y $ is the dependent variable (the value we aim to predict).\n",
    "- $ \\beta_0 $ is the intercept (constant term).\n",
    "- $ \\beta_1, \\beta_2, \\dots, \\beta_n $ are the coefficients for the independent variables.\n",
    "- $ X_1, X_2, \\dots, X_n $ are the independent variables (features that influence $ y $).\n",
    "\n",
    "The model gets the best regression fit line by finding the best values for $ \\beta_0 $, $ \\beta_1 $ and so on."
   ]
  },
  {
   "cell_type": "markdown",
   "metadata": {},
   "source": [
    "### Steps of Multiple Linear Regression Model\n",
    "1. **Data Pre Processing**\n",
    "- Importing the Libraries.\n",
    "- Importing the Data Set.\n",
    "- Splitting the Data set into Training Set and Test Set.\n",
    "2. **Define the Model**:\n",
    "   - The model is defined as a linear combination of the independent variables. The coefficients ($\\beta_1 $, $\\beta_2$, $...$, $\\beta_n$) represent how much each independent variable contributes to predicting ( y ). \n",
    "3. **Fit the Model**:\n",
    "   - Using a method such as **Ordinary Least Squares (OLS)**, estimate the coefficients by minimizing the sum of the squared differences between the actual values of $y$ and the predicted values $\\hat{y}$.\n",
    "\n",
    "4. **Make Predictions**:\n",
    "   - Once the model is trained, use the estimated coefficients to make predictions for new data points.\n",
    "\n",
    "5. **Evaluate the Model**:\n",
    "   - After fitting the model, evaluate its performance using metrics such as **R-squared** (which tells how well the model explains the variance in the data) and **Mean Squared Error (MSE)** to measure prediction accuracy."
   ]
  },
  {
   "cell_type": "markdown",
   "metadata": {},
   "source": [
    "### **Business Example: Predicting Sales from Advertising Spend**\n",
    "\n",
    "In this example, we’ll predict **sales** based on the amount of money spent on advertising in different channels like TV, radio, and newspapers.\n",
    "\n",
    "#### **Code Example: Multiple Linear Regression with Synthetic Dataset**\n",
    "\n",
    "#### **Step 1: Import Libraries**"
   ]
  },
  {
   "cell_type": "code",
   "execution_count": 2,
   "metadata": {},
   "outputs": [],
   "source": [
    "import numpy as np\n",
    "import pandas as pd\n",
    "from sklearn.model_selection import train_test_split\n",
    "from sklearn.linear_model import LinearRegression\n",
    "from sklearn.metrics import mean_squared_error, mean_absolute_error, r2_score\n",
    "import matplotlib.pyplot as plt"
   ]
  },
  {
   "cell_type": "markdown",
   "metadata": {},
   "source": [
    "#### **Step 2: Open Dataset**\n",
    "We will use the house/apartment prices dataset to demonstrate multiple linear regression"
   ]
  },
  {
   "cell_type": "code",
   "execution_count": 5,
   "metadata": {},
   "outputs": [
    {
     "data": {
      "text/html": [
       "<div>\n",
       "<style scoped>\n",
       "    .dataframe tbody tr th:only-of-type {\n",
       "        vertical-align: middle;\n",
       "    }\n",
       "\n",
       "    .dataframe tbody tr th {\n",
       "        vertical-align: top;\n",
       "    }\n",
       "\n",
       "    .dataframe thead th {\n",
       "        text-align: right;\n",
       "    }\n",
       "</style>\n",
       "<table border=\"1\" class=\"dataframe\">\n",
       "  <thead>\n",
       "    <tr style=\"text-align: right;\">\n",
       "      <th></th>\n",
       "      <th>Square_Area</th>\n",
       "      <th>Num_Rooms</th>\n",
       "      <th>Age_of_Building</th>\n",
       "      <th>Floor_Level</th>\n",
       "      <th>City</th>\n",
       "      <th>Price</th>\n",
       "    </tr>\n",
       "  </thead>\n",
       "  <tbody>\n",
       "    <tr>\n",
       "      <th>0</th>\n",
       "      <td>142</td>\n",
       "      <td>4</td>\n",
       "      <td>14</td>\n",
       "      <td>11</td>\n",
       "      <td>Irbid</td>\n",
       "      <td>59600.0</td>\n",
       "    </tr>\n",
       "    <tr>\n",
       "      <th>1</th>\n",
       "      <td>132</td>\n",
       "      <td>4</td>\n",
       "      <td>22</td>\n",
       "      <td>3</td>\n",
       "      <td>Irbid</td>\n",
       "      <td>40600.0</td>\n",
       "    </tr>\n",
       "    <tr>\n",
       "      <th>2</th>\n",
       "      <td>54</td>\n",
       "      <td>3</td>\n",
       "      <td>11</td>\n",
       "      <td>17</td>\n",
       "      <td>Amman</td>\n",
       "      <td>55800.0</td>\n",
       "    </tr>\n",
       "    <tr>\n",
       "      <th>3</th>\n",
       "      <td>146</td>\n",
       "      <td>2</td>\n",
       "      <td>23</td>\n",
       "      <td>12</td>\n",
       "      <td>Amman</td>\n",
       "      <td>64200.0</td>\n",
       "    </tr>\n",
       "    <tr>\n",
       "      <th>4</th>\n",
       "      <td>111</td>\n",
       "      <td>5</td>\n",
       "      <td>1</td>\n",
       "      <td>15</td>\n",
       "      <td>Amman</td>\n",
       "      <td>108450.0</td>\n",
       "    </tr>\n",
       "    <tr>\n",
       "      <th>...</th>\n",
       "      <td>...</td>\n",
       "      <td>...</td>\n",
       "      <td>...</td>\n",
       "      <td>...</td>\n",
       "      <td>...</td>\n",
       "      <td>...</td>\n",
       "    </tr>\n",
       "    <tr>\n",
       "      <th>495</th>\n",
       "      <td>139</td>\n",
       "      <td>4</td>\n",
       "      <td>29</td>\n",
       "      <td>6</td>\n",
       "      <td>Irbid</td>\n",
       "      <td>38700.0</td>\n",
       "    </tr>\n",
       "    <tr>\n",
       "      <th>496</th>\n",
       "      <td>179</td>\n",
       "      <td>2</td>\n",
       "      <td>11</td>\n",
       "      <td>17</td>\n",
       "      <td>Aqaba</td>\n",
       "      <td>83640.0</td>\n",
       "    </tr>\n",
       "    <tr>\n",
       "      <th>497</th>\n",
       "      <td>186</td>\n",
       "      <td>1</td>\n",
       "      <td>32</td>\n",
       "      <td>3</td>\n",
       "      <td>Aqaba</td>\n",
       "      <td>38160.0</td>\n",
       "    </tr>\n",
       "    <tr>\n",
       "      <th>498</th>\n",
       "      <td>115</td>\n",
       "      <td>3</td>\n",
       "      <td>2</td>\n",
       "      <td>2</td>\n",
       "      <td>Amman</td>\n",
       "      <td>74250.0</td>\n",
       "    </tr>\n",
       "    <tr>\n",
       "      <th>499</th>\n",
       "      <td>48</td>\n",
       "      <td>5</td>\n",
       "      <td>14</td>\n",
       "      <td>8</td>\n",
       "      <td>Irbid</td>\n",
       "      <td>33400.0</td>\n",
       "    </tr>\n",
       "  </tbody>\n",
       "</table>\n",
       "<p>500 rows × 6 columns</p>\n",
       "</div>"
      ],
      "text/plain": [
       "     Square_Area  Num_Rooms  Age_of_Building  Floor_Level   City     Price\n",
       "0            142          4               14           11  Irbid   59600.0\n",
       "1            132          4               22            3  Irbid   40600.0\n",
       "2             54          3               11           17  Amman   55800.0\n",
       "3            146          2               23           12  Amman   64200.0\n",
       "4            111          5                1           15  Amman  108450.0\n",
       "..           ...        ...              ...          ...    ...       ...\n",
       "495          139          4               29            6  Irbid   38700.0\n",
       "496          179          2               11           17  Aqaba   83640.0\n",
       "497          186          1               32            3  Aqaba   38160.0\n",
       "498          115          3                2            2  Amman   74250.0\n",
       "499           48          5               14            8  Irbid   33400.0\n",
       "\n",
       "[500 rows x 6 columns]"
      ]
     },
     "execution_count": 5,
     "metadata": {},
     "output_type": "execute_result"
    }
   ],
   "source": [
    "df = pd.read_csv(\"../datasets/apartment_prices.csv\")\n",
    "df"
   ]
  },
  {
   "cell_type": "markdown",
   "metadata": {},
   "source": [
    "#### **Step 3: Define Features and Target**\n",
    "We use **Square_Area**, **Num_Rooms**, **Age_of_Building** and **Floor_Level** as features and **Price** as the target."
   ]
  },
  {
   "cell_type": "code",
   "execution_count": 7,
   "metadata": {},
   "outputs": [],
   "source": [
    "# Features and Target\n",
    "X = df[['Square_Area', 'Num_Rooms', 'Age_of_Building','Floor_Level']]  # Independent variables\n",
    "y = df['Price']  # Dependent variable (Sales)\n",
    "\n",
    "# Split the data into training and testing sets (80% train, 20% test)\n",
    "X_train, X_test, y_train, y_test = train_test_split(X, y, test_size=0.2, random_state=42)\n"
   ]
  },
  {
   "cell_type": "markdown",
   "metadata": {},
   "source": [
    "#### **Step 4: Train the Model**\n"
   ]
  },
  {
   "cell_type": "code",
   "execution_count": 8,
   "metadata": {},
   "outputs": [
    {
     "name": "stdout",
     "output_type": "stream",
     "text": [
      "Coefficients: [  386.5909672   6187.93643028 -1227.95841686  1197.89250287]\n",
      "Intercept: -1414.2878015192473\n"
     ]
    }
   ],
   "source": [
    "# Initialize the Linear Regression model\n",
    "model = LinearRegression()\n",
    "\n",
    "# Train the model on the training data\n",
    "model.fit(X_train, y_train)\n",
    "\n",
    "# Coefficients and Intercept\n",
    "print(\"Coefficients:\", model.coef_)\n",
    "print(\"Intercept:\", model.intercept_)"
   ]
  },
  {
   "cell_type": "markdown",
   "metadata": {},
   "source": [
    "#### **Step 5: Make Predictions**"
   ]
  },
  {
   "cell_type": "code",
   "execution_count": 9,
   "metadata": {},
   "outputs": [
    {
     "name": "stdout",
     "output_type": "stream",
     "text": [
      "Predicted values: [ 59278.70908913  61050.63025509  71652.61921236  21972.5734767\n",
      "  62019.03166608  54803.47254788  87813.19231209 102220.60355782\n",
      "  60036.01484458  83835.0809915   50180.92968036  27824.97728507\n",
      "  62432.59677017 101419.5045446    4838.18737144  45678.31002881\n",
      "  48650.16328844  53061.04718486   2760.80781762  76669.73820095\n",
      "  31503.27980346  79124.52599491  29438.57540714  19223.58639047\n",
      "  67995.30080519  65659.54670312  40978.57669674  19041.0337513\n",
      "  38546.71168052  88702.70410771  44735.49012843  57964.4950451\n",
      "  53154.85492169  31387.02679571  44882.06368142  37582.83081544\n",
      "  48107.67001911  36734.63964255  74569.2090606   60956.89105167\n",
      "  68224.52831056  23475.57713196  44443.32604012  87903.89995175\n",
      "  82545.35180919   -528.42277848  74218.77495735  66040.05504043\n",
      "  64479.39219223  59848.07557106  51394.64253568  71538.87123053\n",
      "  30326.63436314  57818.50824328  62054.50085455  69406.32175893\n",
      "  62481.35193813  50921.74252345  36943.31608091  -2077.44538014\n",
      "  -6019.08435699  69093.81283905  52284.94293108  14873.95504173\n",
      "  57060.41388806  56073.0837074   -4975.12309885  95648.22499551\n",
      "  69601.18567997  29777.03034844  51896.21144878  24757.76252468\n",
      "  21664.70266716  44748.10507258  74906.02506444  12303.16950647\n",
      " -12151.33265171  53706.41335365  47750.19370391  70191.38193097\n",
      "  10604.32723256  46673.40687462  79678.16472863  42539.91890035\n",
      "  67800.55883542  26101.71868284  63817.40043109  66587.46512217\n",
      " 117322.32223814  98204.87421359  61075.8027923   37846.78641595\n",
      "  23211.90855358  89527.63206287  10885.81897646  74095.33435076\n",
      "  83242.18529667  43183.04362974  55227.27256532  93905.18049043]\n",
      "Actual values: [ 57120.  47900.  69000.  21600.  59880.  53880.  84240.  97920.  73050.\n",
      "  67000.  40100.  32700.  50500.  81400.   6900.  53700.  38700.  63150.\n",
      "   4200.  60900.  29880.  75960.  24100.  16100.  64560.  52700.  38160.\n",
      "  24000.  31300.  85080.  43800.  69300.  41900.  31560.  55800.  37320.\n",
      "  38500.  29000.  89850.  59880.  65760.  28500.  35200.  70600.  66000.\n",
      "    200.  59600.  52700.  52200.  73500.  41900.  68040.  37650.  47400.\n",
      "  73350.  55300.  75000.  49320.  44250.  -2700.  -5520.  82650.  42700.\n",
      "  15120.  55440.  66450.  -4440. 115050.  66600.  28920.  62550.  20300.\n",
      "  18100.  53100.  89850.   9900. -11880.  51960.  39200.  57100.  12450.\n",
      "  38400.  63300.  33600.  83250.  32400.  50700.  79350. 112800.  79000.\n",
      "  59160.  30000.  19500.  71600.   9500.  70440.  67600.  42000.  43300.\n",
      "  89640.]\n"
     ]
    }
   ],
   "source": [
    "# Predict the target variable for the test set\n",
    "y_pred = model.predict(X_test)\n",
    "\n",
    "# Display the predictions\n",
    "print(\"Predicted values:\", y_pred)\n",
    "print(\"Actual values:\", y_test.values)"
   ]
  },
  {
   "cell_type": "markdown",
   "metadata": {},
   "source": [
    "#### **Step 6: Evaluate the Model**\n",
    "We evaluate the model using **MSE**, **MAE**, and **R-squared**."
   ]
  },
  {
   "cell_type": "code",
   "execution_count": 10,
   "metadata": {},
   "outputs": [
    {
     "name": "stdout",
     "output_type": "stream",
     "text": [
      "Mean Squared Error (MSE): 88875055.09\n",
      "Mean Absolute Error (MAE): 7575.84\n",
      "R-squared (R²): 0.87\n"
     ]
    }
   ],
   "source": [
    "# Mean Squared Error (MSE)\n",
    "mse = mean_squared_error(y_test, y_pred)\n",
    "print(\"Mean Squared Error (MSE):\", round(mse,2))\n",
    "\n",
    "# Mean Absolute Error (MAE)\n",
    "mae = mean_absolute_error(y_test, y_pred)\n",
    "print(\"Mean Absolute Error (MAE):\", round(mae,2))\n",
    "\n",
    "# R-squared (R²)\n",
    "r2 = r2_score(y_test, y_pred)\n",
    "print(\"R-squared (R²):\", round(r2,2))"
   ]
  },
  {
   "cell_type": "markdown",
   "metadata": {},
   "source": [
    "#### **Step 7: Plotting the Performance**\n",
    "\n",
    "We visualize the predicted vs actual sales values to assess model performance."
   ]
  },
  {
   "cell_type": "code",
   "execution_count": 11,
   "metadata": {},
   "outputs": [
    {
     "data": {
      "image/png": "[encoded data removed]",
      "text/plain": [
       "<Figure size 640x480 with 1 Axes>"
      ]
     },
     "metadata": {},
     "output_type": "display_data"
    }
   ],
   "source": [
    "# Plot actual vs predicted values\n",
    "plt.scatter(y_test, y_pred, color='blue')\n",
    "plt.plot([min(y_test), max(y_test)], [min(y_test), max(y_test)], color='red', linewidth=2)  # Line of perfect fit\n",
    "plt.xlabel('Actual Sales')\n",
    "plt.ylabel('Predicted Sales')\n",
    "plt.title('Actual vs Predicted Sales')\n",
    "plt.show()"
   ]
  },
  {
   "cell_type": "markdown",
   "metadata": {},
   "source": [
    "The accuracy, as represented by the \\(R^2\\) score of **0.87**, suggests that the model is capturing about 87% of the variance in the data, which is lower than desired for many business applications.\n",
    "\n",
    "Here are a few potential steps you can take to improve the model’s accuracy:\n",
    "\n",
    "### 1. **Check Feature Importance**\n",
    "   - The current model may not be capturing all the important relationships in the data. Try using **feature importance** techniques (like looking at the coefficients of the linear model) to determine if any of the variables have a disproportionately low or high impact.\n",
    "   - You could try adding more relevant features if available or removing features that don't seem to contribute significantly.\n",
    "\n",
    "### 2. **Polynomial Features**\n",
    "   - Linear regression assumes a linear relationship between the features and the target. However, if the true relationship is nonlinear, linear regression might not be a good fit.\n",
    "   - Try adding **polynomial features** (interaction terms) using `PolynomialFeatures` from `scikit-learn`.\n",
    "\n",
    "   ```python\n",
    "   from sklearn.preprocessing import PolynomialFeatures\n",
    "\n",
    "   poly = PolynomialFeatures(degree=2, include_bias=False)\n",
    "   X_poly = poly.fit_transform(X)\n",
    "   \n",
    "   X_train_poly, X_test_poly, y_train, y_test = train_test_split(X_poly, y, test_size=0.2, random_state=42)\n",
    "   \n",
    "   model = LinearRegression()\n",
    "   model.fit(X_train_poly, y_train)\n",
    "   \n",
    "   y_pred = model.predict(X_test_poly)\n",
    "   ```\n",
    "\n",
    "### 3. **Regularization**\n",
    "   - Try using **regularization techniques** like **Ridge Regression** or **Lasso Regression** to penalize large coefficients and reduce overfitting.\n",
    "   \n",
    "   ```python\n",
    "   from sklearn.linear_model import Ridge\n",
    "\n",
    "   model = Ridge(alpha=1.0)\n",
    "   model.fit(X_train, y_train)\n",
    "   ```\n",
    "\n",
    "### 4. **Cross-Validation**\n",
    "   - Use **cross-validation** to ensure your model isn't overfitting on the training set.\n",
    "   \n",
    "   ```python\n",
    "   from sklearn.model_selection import cross_val_score\n",
    "\n",
    "   scores = cross_val_score(model, X, y, cv=5, scoring='r2')\n",
    "   print(\"Average R^2 from cross-validation:\", np.mean(scores))\n",
    "   ```\n",
    "\n",
    "### 5. **Scale the Data**\n",
    "   - Scaling the numerical features can often improve the performance of linear models, especially if the features have different magnitudes.\n",
    "   \n",
    "   ```python\n",
    "   from sklearn.preprocessing import StandardScaler\n",
    "\n",
    "   scaler = StandardScaler()\n",
    "   X_scaled = scaler.fit_transform(X)\n",
    "   ```\n",
    "\n",
    "### 6. **Outlier Detection**\n",
    "   - Outliers in the dataset could be adversely affecting the performance of the model. Check if any observations have extreme values that might be skewing the results.\n",
    "\n",
    "### 7. **Interaction Terms**\n",
    "   - Consider adding interaction terms between variables. For example, TV and Radio spend might have an interaction effect that influences sales.\n",
    "\n",
    "### 8. **Add More Data**\n",
    "   - If possible, adding more data (e.g., more records, more features) can help improve the accuracy by giving the model more examples to learn from.\n",
    "\n",
    "---"
   ]
  },
  {
   "cell_type": "markdown",
   "metadata": {},
   "source": [
    "### **Summary of the Business Case**"
   ]
  },
  {
   "cell_type": "markdown",
   "metadata": {},
   "source": [
    "\n",
    "\n",
    "- **Problem**: Predict sales based on the advertising spend across three different channels (TV, radio, and newspaper).\n",
    "- **Model**: A multiple linear regression model is trained to understand how spending in each channel contributes to the overall sales.\n",
    "- **Evaluation**: Performance is evaluated using metrics like **MSE**, **MAE**, and **R²**, and results are visualized using a scatter plot comparing actual and predicted sales."
   ]
  }
 ],
 "metadata": {
  "kernelspec": {
   "display_name": "myenv",
   "language": "python",
   "name": "python3"
  },
  "language_info": {
   "codemirror_mode": {
    "name": "ipython",
    "version": 3
   },
   "file_extension": ".py",
   "mimetype": "text/x-python",
   "name": "python",
   "nbconvert_exporter": "python",
   "pygments_lexer": "ipython3",
   "version": "3.12.7"
  }
 },
 "nbformat": 4,
 "nbformat_minor": 4
}
