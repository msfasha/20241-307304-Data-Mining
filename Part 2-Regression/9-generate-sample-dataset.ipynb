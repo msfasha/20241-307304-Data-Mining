{
 "cells": [
  {
   "cell_type": "markdown",
   "metadata": {},
   "source": []
  },
  {
   "cell_type": "code",
   "execution_count": 3,
   "metadata": {},
   "outputs": [],
   "source": [
    "import numpy as np\n",
    "import pandas as pd\n",
    "\n",
    "# Set random seed for reproducibility\n",
    "np.random.seed(42)\n",
    "\n",
    "# Number of data points\n",
    "n = 500\n",
    "\n",
    "# Generate synthetic data for apartment prices\n",
    "square_area = np.random.randint(40, 200, n)  # in square meters\n",
    "num_rooms = np.random.randint(1, 6, n)  # number of rooms\n",
    "age_of_building = np.random.randint(1, 40, n)  # age of the building in years\n",
    "floor_level = np.random.randint(1, 20, n)  # floor level of the apartment\n",
    "city = np.random.choice(['Amman', 'Irbid', 'Aqaba'], n)  # categorical feature: city\n",
    "\n",
    "# Assume base price is influenced by square_area, num_rooms, age_of_building, floor_level, and city\n",
    "base_price = 300  # base price per square meter in JDs\n",
    "price_per_room = 5000  # additional price per room\n",
    "price_per_year = -1000  # depreciation due to age of the building\n",
    "price_per_floor = 1000  # increase in price based on floor level\n",
    "\n",
    "# City factor\n",
    "city_factor = {'Amman': 1.5, 'Irbid': 1.0, 'Aqaba': 1.2}\n",
    "\n",
    "# Generate the target variable (price)\n",
    "price = (square_area * base_price + \n",
    "         num_rooms * price_per_room + \n",
    "         age_of_building * price_per_year + \n",
    "         floor_level * price_per_floor) * [city_factor[c] for c in city]\n",
    "\n",
    "# Convert to DataFrame\n",
    "df = pd.DataFrame({\n",
    "    'Square_Area': square_area,\n",
    "    'Num_Rooms': num_rooms,\n",
    "    'Age_of_Building': age_of_building,\n",
    "    'Floor_Level': floor_level,\n",
    "    'City': city,\n",
    "    'Price': price\n",
    "})\n",
    "\n",
    "# Save the DataFrame to a CSV file\n",
    "file_path = '../datasets/apartment_prices.csv'\n",
    "df.to_csv(file_path, index=False)\n",
    "\n",
    "# Display the first few rows of the dataset\n",
    "# import ace_tools as tools; tools.display_dataframe_to_user(name=\"Synthetic Apartment Prices Dataset\", dataframe=df)\n"
   ]
  }
 ],
 "metadata": {
  "kernelspec": {
   "display_name": "myenv",
   "language": "python",
   "name": "python3"
  },
  "language_info": {
   "codemirror_mode": {
    "name": "ipython",
    "version": 3
   },
   "file_extension": ".py",
   "mimetype": "text/x-python",
   "name": "python",
   "nbconvert_exporter": "python",
   "pygments_lexer": "ipython3",
   "version": "3.12.7"
  }
 },
 "nbformat": 4,
 "nbformat_minor": 2
}
